{
 "cells": [
  {
   "cell_type": "markdown",
   "metadata": {},
   "source": [
    "# Week 2, Day 1, Part 1\n",
    "** Load anaconda, Jupyter notebook and launch google cloud."
   ]
  },
  {
   "cell_type": "code",
   "execution_count": 2,
   "metadata": {},
   "outputs": [
    {
     "name": "stdout",
     "output_type": "stream",
     "text": [
      "Hello World!\n",
      "Hello Again, I am Vikram Bandugula, this is my first program\n",
      "I like 'typing'this.\n",
      "This is fun, so much, fun.\n",
      "Yay! Printing.\n",
      "did I figure why I shuld use double quoteand single ? \n"
     ]
    }
   ],
   "source": [
    "# Printing example\n",
    "print(\"Hello World!\")\n",
    "print(\"Hello Again, I am Vikram Bandugula, this is my first program\")\n",
    "print(\"I like 'typing'this.\")\n",
    "print(\"This is fun, so much, fun.\")\n",
    "print('Yay! Printing.')\n",
    "print('did I figure why I shuld use double quoteand single ? ')"
   ]
  },
  {
   "cell_type": "code",
   "execution_count": 3,
   "metadata": {},
   "outputs": [
    {
     "name": "stdout",
     "output_type": "stream",
     "text": [
      "Counting,love counting\n",
      "My fav number is  1\n",
      "what are you sure 5 its not 55\n"
     ]
    }
   ],
   "source": [
    "#Lets count now\n",
    "print (\"Counting,love counting\")\n",
    "print (\"My fav number is \", 1)\n",
    "print (\"what are you sure\",5, \"its not\", 55)\n"
   ]
  }
 ],
 "metadata": {
  "kernelspec": {
   "display_name": "Python 3",
   "language": "python",
   "name": "python3"
  },
  "language_info": {
   "codemirror_mode": {
    "name": "ipython",
    "version": 3
   },
   "file_extension": ".py",
   "mimetype": "text/x-python",
   "name": "python",
   "nbconvert_exporter": "python",
   "pygments_lexer": "ipython3",
   "version": "3.7.7"
  }
 },
 "nbformat": 4,
 "nbformat_minor": 4
}
