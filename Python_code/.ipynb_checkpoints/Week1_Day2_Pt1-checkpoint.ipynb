{
 "cells": [
  {
   "cell_type": "code",
   "execution_count": null,
   "metadata": {},
   "outputs": [],
   "source": [
    "# Week2 Part 1\n",
    "# Intro to Loops\n"
   ]
  },
  {
   "cell_type": "code",
   "execution_count": 2,
   "metadata": {},
   "outputs": [
    {
     "name": "stdout",
     "output_type": "stream",
     "text": [
      "1\n",
      "2\n",
      "3\n",
      "4\n",
      "5\n",
      "6\n",
      "7\n",
      "8\n",
      "9\n"
     ]
    }
   ],
   "source": [
    "#pringing all number below 10\n",
    "for i in range(1,10):\n",
    "    print(i)"
   ]
  },
  {
   "cell_type": "code",
   "execution_count": 4,
   "metadata": {},
   "outputs": [
    {
     "name": "stdout",
     "output_type": "stream",
     "text": [
      "1\n",
      "2\n",
      "3\n",
      "4\n",
      "5\n",
      "6\n"
     ]
    }
   ],
   "source": [
    "a=[1,2,3,4,5,6]\n",
    "for i in a:\n",
    "    print (i)"
   ]
  },
  {
   "cell_type": "code",
   "execution_count": 9,
   "metadata": {},
   "outputs": [
    {
     "name": "stdout",
     "output_type": "stream",
     "text": [
      "it's odd number and number is 1\n",
      "It's even number and number is 2\n",
      "it's odd number and number is 3\n",
      "It's even number and number is 4\n",
      "it's odd number and number is 5\n",
      "It's even number and number is 6\n",
      "it's odd number and number is 7\n",
      "It's even number and number is 8\n",
      "it's odd number and number is 9\n",
      "It's even number and number is 10\n"
     ]
    }
   ],
   "source": [
    "#print only even number below 10\n",
    "a=3\n",
    "b=a%2\n",
    "b\n",
    "for i in range(1,11):\n",
    "    if (i%2==0):\n",
    "        print(\"It's even number and number is\",i)\n",
    "    else :\n",
    "        print(\"it's odd number and number is\",i)\n"
   ]
  },
  {
   "cell_type": "code",
   "execution_count": null,
   "metadata": {},
   "outputs": [],
   "source": [
    "# Fuzz Buzz example\n",
    "print (\"Numbers between 1-100, but multiple of 3 is Fuzz, multiple of 5 is Buzz and multiple of 3 and 5 is Fuzz Buzz\")\n",
    "for i in range (1,20):\n",
    "    if i%3==0:\n",
    "        if i%5==0:\n",
    "            print (\"FuzzBuzz\")\n",
    "        else:\n",
    "            print (\"Fuzz\")\n",
    "    elif i%5==0:\n",
    "        print (\"Buzz\")\n",
    "    else:\n",
    "        print (i)"
   ]
  },
  {
   "cell_type": "code",
   "execution_count": 17,
   "metadata": {},
   "outputs": [
    {
     "name": "stdout",
     "output_type": "stream",
     "text": [
      "This is my first function\n"
     ]
    },
    {
     "data": {
      "text/plain": [
       "5"
      ]
     },
     "execution_count": 17,
     "metadata": {},
     "output_type": "execute_result"
    }
   ],
   "source": [
    "# Function one\n",
    "def add(a,b):\n",
    "    print(\"This is my first function\")\n",
    "    return a+b\n",
    "c=add(2,3)\n",
    "c"
   ]
  },
  {
   "cell_type": "code",
   "execution_count": null,
   "metadata": {},
   "outputs": [],
   "source": []
  }
 ],
 "metadata": {
  "kernelspec": {
   "display_name": "Python 3",
   "language": "python",
   "name": "python3"
  },
  "language_info": {
   "codemirror_mode": {
    "name": "ipython",
    "version": 3
   },
   "file_extension": ".py",
   "mimetype": "text/x-python",
   "name": "python",
   "nbconvert_exporter": "python",
   "pygments_lexer": "ipython3",
   "version": "3.7.1"
  }
 },
 "nbformat": 4,
 "nbformat_minor": 2
}
