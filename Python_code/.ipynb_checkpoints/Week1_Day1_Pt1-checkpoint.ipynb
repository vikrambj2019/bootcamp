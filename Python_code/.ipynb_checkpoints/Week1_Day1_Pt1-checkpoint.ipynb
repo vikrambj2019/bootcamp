{
 "cells": [
  {
   "cell_type": "code",
   "execution_count": 1,
   "metadata": {},
   "outputs": [
    {
     "ename": "SyntaxError",
     "evalue": "invalid syntax (<ipython-input-1-324e78244494>, line 2)",
     "output_type": "error",
     "traceback": [
      "\u001b[0;36m  File \u001b[0;32m\"<ipython-input-1-324e78244494>\"\u001b[0;36m, line \u001b[0;32m2\u001b[0m\n\u001b[0;31m    ** Load anaconda, Jupyter notebook and launch google cloud.\u001b[0m\n\u001b[0m     ^\u001b[0m\n\u001b[0;31mSyntaxError\u001b[0m\u001b[0;31m:\u001b[0m invalid syntax\n"
     ]
    }
   ],
   "source": [
    "# Week 1 - Part 1\n",
    "** Load anaconda, Jupyter notebook and launch google cloud."
   ]
  },
  {
   "cell_type": "code",
   "execution_count": 2,
   "metadata": {},
   "outputs": [
    {
     "name": "stdout",
     "output_type": "stream",
     "text": [
      "Hello World!\n",
      "Hello Again, I am Vikram Bandugula, this is my first program\n",
      "I like 'typing'this.\n",
      "This is fun, so much, fun.\n",
      "Yay! Printing.\n",
      "did I figure why I shuld use double quoteand single ? \n"
     ]
    }
   ],
   "source": [
    "# Printing example\n",
    "print(\"Hello World!\")\n",
    "print(\"Hello Again, I am Vikram Bandugula, this is my first program\")\n",
    "print(\"I like 'typing'this.\")\n",
    "print(\"This is fun, so much, fun.\")\n",
    "print('Yay! Printing.')\n",
    "print('did I figure why I shuld use double quoteand single ? ')"
   ]
  },
  {
   "cell_type": "code",
   "execution_count": 3,
   "metadata": {},
   "outputs": [
    {
     "name": "stdout",
     "output_type": "stream",
     "text": [
      "Counting,love counting\n",
      "My fav number is  1\n",
      "what are you sure 5 its not 55\n"
     ]
    }
   ],
   "source": [
    "#Lets count now\n",
    "print (\"Counting,love counting\")\n",
    "print (\"My fav number is \", 1)\n",
    "print (\"what are you sure\",5, \"its not\", 55)\n"
   ]
  },
  {
   "cell_type": "code",
   "execution_count": null,
   "metadata": {},
   "outputs": [],
   "source": []
  }
 ],
 "metadata": {
  "kernelspec": {
   "display_name": "Python 3",
   "language": "python",
   "name": "python3"
  },
  "language_info": {
   "codemirror_mode": {
    "name": "ipython",
    "version": 3
   },
   "file_extension": ".py",
   "mimetype": "text/x-python",
   "name": "python",
   "nbconvert_exporter": "python",
   "pygments_lexer": "ipython3",
   "version": "3.7.7"
  }
 },
 "nbformat": 4,
 "nbformat_minor": 4
}
