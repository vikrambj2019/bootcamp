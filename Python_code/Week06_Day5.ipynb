{
 "cells": [
  {
   "cell_type": "code",
   "execution_count": 224,
   "metadata": {},
   "outputs": [],
   "source": [
    "import pandas as pd\n",
    "from pandas import ExcelWriter\n",
    "from pandas import ExcelFile\n",
    "import os \n",
    "import numpy as np \n"
   ]
  },
  {
   "cell_type": "code",
   "execution_count": 226,
   "metadata": {},
   "outputs": [],
   "source": [
    "path='https://raw.githubusercontent.com/vikrambj2019/basic/master/Data/'\n",
    "filename_read = os.path.join(path,\"excel_sudoku_v1.xlsx\")\n",
    "df = pd.read_excel(filename_read, sheet_name='Sheet1')"
   ]
  },
  {
   "cell_type": "code",
   "execution_count": 227,
   "metadata": {},
   "outputs": [
    {
     "data": {
      "text/html": [
       "<div>\n",
       "<style scoped>\n",
       "    .dataframe tbody tr th:only-of-type {\n",
       "        vertical-align: middle;\n",
       "    }\n",
       "\n",
       "    .dataframe tbody tr th {\n",
       "        vertical-align: top;\n",
       "    }\n",
       "\n",
       "    .dataframe thead th {\n",
       "        text-align: right;\n",
       "    }\n",
       "</style>\n",
       "<table border=\"1\" class=\"dataframe\">\n",
       "  <thead>\n",
       "    <tr style=\"text-align: right;\">\n",
       "      <th></th>\n",
       "      <th>c1</th>\n",
       "      <th>c2</th>\n",
       "      <th>c3</th>\n",
       "      <th>c4</th>\n",
       "      <th>c5</th>\n",
       "      <th>c6</th>\n",
       "      <th>c7</th>\n",
       "      <th>c8</th>\n",
       "      <th>c9</th>\n",
       "    </tr>\n",
       "  </thead>\n",
       "  <tbody>\n",
       "    <tr>\n",
       "      <th>0</th>\n",
       "      <td>NaN</td>\n",
       "      <td>NaN</td>\n",
       "      <td>NaN</td>\n",
       "      <td>7.0</td>\n",
       "      <td>NaN</td>\n",
       "      <td>2.0</td>\n",
       "      <td>NaN</td>\n",
       "      <td>NaN</td>\n",
       "      <td>NaN</td>\n",
       "    </tr>\n",
       "    <tr>\n",
       "      <th>1</th>\n",
       "      <td>7.0</td>\n",
       "      <td>NaN</td>\n",
       "      <td>NaN</td>\n",
       "      <td>1.0</td>\n",
       "      <td>9.0</td>\n",
       "      <td>NaN</td>\n",
       "      <td>NaN</td>\n",
       "      <td>NaN</td>\n",
       "      <td>NaN</td>\n",
       "    </tr>\n",
       "    <tr>\n",
       "      <th>2</th>\n",
       "      <td>NaN</td>\n",
       "      <td>5.0</td>\n",
       "      <td>NaN</td>\n",
       "      <td>NaN</td>\n",
       "      <td>NaN</td>\n",
       "      <td>NaN</td>\n",
       "      <td>NaN</td>\n",
       "      <td>8.0</td>\n",
       "      <td>1.0</td>\n",
       "    </tr>\n",
       "    <tr>\n",
       "      <th>3</th>\n",
       "      <td>NaN</td>\n",
       "      <td>NaN</td>\n",
       "      <td>4.0</td>\n",
       "      <td>8.0</td>\n",
       "      <td>NaN</td>\n",
       "      <td>NaN</td>\n",
       "      <td>NaN</td>\n",
       "      <td>6.0</td>\n",
       "      <td>NaN</td>\n",
       "    </tr>\n",
       "    <tr>\n",
       "      <th>4</th>\n",
       "      <td>NaN</td>\n",
       "      <td>1.0</td>\n",
       "      <td>7.0</td>\n",
       "      <td>9.0</td>\n",
       "      <td>NaN</td>\n",
       "      <td>NaN</td>\n",
       "      <td>4.0</td>\n",
       "      <td>NaN</td>\n",
       "      <td>NaN</td>\n",
       "    </tr>\n",
       "  </tbody>\n",
       "</table>\n",
       "</div>"
      ],
      "text/plain": [
       "    c1   c2   c3   c4   c5   c6   c7   c8   c9\n",
       "0  NaN  NaN  NaN  7.0  NaN  2.0  NaN  NaN  NaN\n",
       "1  7.0  NaN  NaN  1.0  9.0  NaN  NaN  NaN  NaN\n",
       "2  NaN  5.0  NaN  NaN  NaN  NaN  NaN  8.0  1.0\n",
       "3  NaN  NaN  4.0  8.0  NaN  NaN  NaN  6.0  NaN\n",
       "4  NaN  1.0  7.0  9.0  NaN  NaN  4.0  NaN  NaN"
      ]
     },
     "execution_count": 227,
     "metadata": {},
     "output_type": "execute_result"
    }
   ],
   "source": [
    "df.head()"
   ]
  },
  {
   "cell_type": "code",
   "execution_count": 229,
   "metadata": {},
   "outputs": [],
   "source": [
    "def updateValuesStrategyOne(ls):\n",
    "    \n",
    "    a=np.argwhere(ls==0)\n",
    "    \n",
    "    for i in range(len(a)):   \n",
    "        b=a[i]\n",
    "        row=b[0]\n",
    "        col=b[1]\n",
    "        if row in (0,1,2):\n",
    "            row_sq=0\n",
    "        elif row in (3,4,5):\n",
    "            row_sq=3\n",
    "        else:\n",
    "            row_sq=6\n",
    "        \n",
    "        if col in (0,1,2):\n",
    "            col_sq=0\n",
    "        elif col in (3,4,5):\n",
    "            col_sq=3\n",
    "        else:\n",
    "            col_sq=6\n",
    "        \n",
    "        \n",
    "        c=np.append(ls[row,:].tolist(),[ls[row_sq:row_sq+3,col_sq:col_sq+3].reshape(1,9).flatten().tolist(),ls[:,col].tolist()])\n",
    "        list2=[1,2,3,4,5,6,7,8,9,0]\n",
    "        d=set(list2).difference(c)\n",
    "        if len(d)==1:\n",
    "            ls[row,col]=list(d)[0]\n",
    "    if np.argwhere(ls==0).size>0:\n",
    "        flag=\"Puzzle is not complete\"\n",
    "    else:\n",
    "        flag =\"Puzzle is complete\"\n",
    "        print (\"Puzzle is complete\")\n",
    "    return ls,flag"
   ]
  },
  {
   "cell_type": "code",
   "execution_count": 230,
   "metadata": {},
   "outputs": [],
   "source": [
    "del ls1\n",
    "ls1=df.values\n",
    "ls1[np.isnan(ls1)] = 0 \n"
   ]
  },
  {
   "cell_type": "code",
   "execution_count": 231,
   "metadata": {},
   "outputs": [
    {
     "name": "stdout",
     "output_type": "stream",
     "text": [
      "Puzzle is complete\n",
      "--- 0.01695561408996582 seconds ---\n"
     ]
    }
   ],
   "source": [
    "import time\n",
    "start_time = time.time()\n",
    "for i in range(0,100):\n",
    "    ls1,flag=updateValuesStrategyOne(ls1)\n",
    "    if flag==\"Puzzle is complete\":\n",
    "        break\n",
    "print(\"--- %s seconds ---\" % (time.time() - start_time))"
   ]
  },
  {
   "cell_type": "code",
   "execution_count": 232,
   "metadata": {},
   "outputs": [
    {
     "data": {
      "text/plain": [
       "405.0"
      ]
     },
     "execution_count": 232,
     "metadata": {},
     "output_type": "execute_result"
    }
   ],
   "source": [
    "ls1.sum()"
   ]
  },
  {
   "cell_type": "code",
   "execution_count": 233,
   "metadata": {},
   "outputs": [
    {
     "data": {
      "text/plain": [
       "array([[4., 6., 1., 7., 8., 2., 5., 9., 3.],\n",
       "       [7., 8., 3., 1., 9., 5., 2., 4., 6.],\n",
       "       [2., 5., 9., 6., 3., 4., 7., 8., 1.],\n",
       "       [5., 9., 4., 8., 1., 7., 3., 6., 2.],\n",
       "       [6., 1., 7., 9., 2., 3., 4., 5., 8.],\n",
       "       [3., 2., 8., 5., 4., 6., 9., 1., 7.],\n",
       "       [9., 3., 6., 2., 5., 1., 8., 7., 4.],\n",
       "       [8., 7., 2., 4., 6., 9., 1., 3., 5.],\n",
       "       [1., 4., 5., 3., 7., 8., 6., 2., 9.]])"
      ]
     },
     "execution_count": 233,
     "metadata": {},
     "output_type": "execute_result"
    }
   ],
   "source": [
    "ls1"
   ]
  },
  {
   "cell_type": "code",
   "execution_count": null,
   "metadata": {},
   "outputs": [],
   "source": []
  }
 ],
 "metadata": {
  "kernelspec": {
   "display_name": "Python 3",
   "language": "python",
   "name": "python3"
  },
  "language_info": {
   "codemirror_mode": {
    "name": "ipython",
    "version": 3
   },
   "file_extension": ".py",
   "mimetype": "text/x-python",
   "name": "python",
   "nbconvert_exporter": "python",
   "pygments_lexer": "ipython3",
   "version": "3.7.7"
  }
 },
 "nbformat": 4,
 "nbformat_minor": 4
}
