{
 "cells": [
  {
   "cell_type": "code",
   "execution_count": null,
   "metadata": {},
   "outputs": [],
   "source": [
    "# Week 1 Part 3\n",
    "** We will learn about math functions, variables and expression.\n",
    "** Intro to logical \n"
   ]
  },
  {
   "cell_type": "code",
   "execution_count": 1,
   "metadata": {},
   "outputs": [
    {
     "data": {
      "text/plain": [
       "11"
      ]
     },
     "execution_count": 1,
     "metadata": {},
     "output_type": "execute_result"
    }
   ],
   "source": [
    "a=5\n",
    "b=a+6\n",
    "b\n"
   ]
  },
  {
   "cell_type": "code",
   "execution_count": 2,
   "metadata": {},
   "outputs": [
    {
     "name": "stdout",
     "output_type": "stream",
     "text": [
      "11\n"
     ]
    }
   ],
   "source": [
    "a=5\n",
    "b=a+6\n",
    "print (b)"
   ]
  },
  {
   "cell_type": "code",
   "execution_count": 4,
   "metadata": {},
   "outputs": [
    {
     "name": "stdout",
     "output_type": "stream",
     "text": [
      "Let's talk about Vikram Bandugula.\n",
      "He's 170 meters tall.\n",
      "He's 150 pounds heavy.\n",
      "Actually that's not too heavy.\n",
      "He's got Black eyes and Less hair.\n",
      "His teeth are usually White depending on the coffee.\n",
      "How can I calculate by BMI?\n",
      "Hey, my BMI is 23.542837370242214\n"
     ]
    }
   ],
   "source": [
    "my_name = 'Vikram Bandugula'\n",
    "my_age = 35 # not a lie\n",
    "my_height = 170 # Meters\n",
    "my_weight = 150 # lbs\n",
    "my_eyes = 'Black'\n",
    "my_teeth = 'White'\n",
    "my_hair = 'Less'\n",
    "print(f\"Let's talk about {my_name}.\")\n",
    "print(f\"He's {my_height} meters tall.\")\n",
    "print(f\"He's {my_weight} pounds heavy.\")\n",
    "print(\"Actually that's not too heavy.\")\n",
    "print(f\"He's got {my_eyes} eyes and {my_hair} hair.\")\n",
    "print(f\"His teeth are usually {my_teeth} depending on the coffee.\")\n",
    "print(\"How can I calculate by BMI?\")\n",
    "my_wt_kg=my_weight*0.453592\n",
    "my_BMI=my_wt_kg/((my_height/100)**2)\n",
    "print(\"Hey, my BMI is\",my_BMI)\n",
    "\n"
   ]
  },
  {
   "cell_type": "code",
   "execution_count": 17,
   "metadata": {},
   "outputs": [
    {
     "name": "stdout",
     "output_type": "stream",
     "text": [
      "a is less than b\n"
     ]
    }
   ],
   "source": [
    "#Logical statement\n",
    "a=5\n",
    "b=10\n",
    "if a>b :\n",
    "    print (\"a is greater than b\")"
   ]
  },
  {
   "cell_type": "code",
   "execution_count": null,
   "metadata": {},
   "outputs": [],
   "source": [
    "a=5\n",
    "b=10\n",
    "if a>b :\n",
    "    print (\"a is greater than b\")\n",
    "else :\n",
    "    print (\"a is less than b\")"
   ]
  },
  {
   "cell_type": "code",
   "execution_count": 19,
   "metadata": {},
   "outputs": [
    {
     "name": "stdout",
     "output_type": "stream",
     "text": [
      "We should take the cars.\n"
     ]
    }
   ],
   "source": [
    "people = 30\n",
    "cars = 40\n",
    "buses = 15\n",
    "if cars > people:\n",
    "    print (\"We should take the cars.\")\n",
    "elif cars < people:\n",
    "    print (\"We should not take the cars.\")\n",
    "else:\n",
    "    print (\"We can't decide.\")"
   ]
  },
  {
   "cell_type": "code",
   "execution_count": 20,
   "metadata": {},
   "outputs": [
    {
     "name": "stdout",
     "output_type": "stream",
     "text": [
      "I cant believe we have. 40 many cars\n"
     ]
    }
   ],
   "source": [
    "# Additional logical operators\n",
    "people = 30\n",
    "cars = 40\n",
    "buses = 15\n",
    "if cars == 40:\n",
    "    print (\"I cant believe we have.\",cars,\"many cars\")"
   ]
  },
  {
   "cell_type": "code",
   "execution_count": 24,
   "metadata": {},
   "outputs": [],
   "source": [
    "people = 30\n",
    "cars = 40\n",
    "buses = 15\n",
    "if (cars > people and cars!=40):\n",
    "    print (\"We should take the cars.since we have\",cars)\n"
   ]
  },
  {
   "cell_type": "code",
   "execution_count": null,
   "metadata": {},
   "outputs": [],
   "source": [
    "#HW for Week 2, Part 2\n",
    "# Perform all the above with other operators\n",
    "#People, cars , buses and train\n",
    "#Put #train as 10\n",
    "#Create all permutations and combinations, where you want to print the lowest number"
   ]
  }
 ],
 "metadata": {
  "kernelspec": {
   "display_name": "Python 3",
   "language": "python",
   "name": "python3"
  },
  "language_info": {
   "codemirror_mode": {
    "name": "ipython",
    "version": 3
   },
   "file_extension": ".py",
   "mimetype": "text/x-python",
   "name": "python",
   "nbconvert_exporter": "python",
   "pygments_lexer": "ipython3",
   "version": "3.7.9"
  }
 },
 "nbformat": 4,
 "nbformat_minor": 4
}
