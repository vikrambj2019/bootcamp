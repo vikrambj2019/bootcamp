{
 "cells": [
  {
   "cell_type": "markdown",
   "metadata": {},
   "source": [
    "# HW 2 , 10 Math functions, Fuzz, Buzz and Prime/Odd/Even numbers"
   ]
  },
  {
   "cell_type": "code",
   "execution_count": 1,
   "metadata": {},
   "outputs": [],
   "source": [
    "import math as mt\n",
    "a=45\n",
    "b=60"
   ]
  },
  {
   "cell_type": "code",
   "execution_count": 4,
   "metadata": {},
   "outputs": [
    {
     "name": "stdout",
     "output_type": "stream",
     "text": [
      "sum of 45,60 is 105\n",
      "Subractions of 45,60 is -15\n",
      "Multiplication of 45,60 is 2700\n",
      "Division of 45,60 is 0.75\n"
     ]
    }
   ],
   "source": [
    "# The functions +, -, *, /, %. Cos, Sin, tan, exp, \n",
    "print(f\"sum of {a},{b} is {a+b}\")\n",
    "print(f\"Subractions of {a},{b} is {a-b}\")\n",
    "print(f\"Multiplication of {a},{b} is {a*b}\")\n",
    "print(f\"Division of {a},{b} is {a/b}\")\n",
    "\n"
   ]
  },
  {
   "cell_type": "code",
   "execution_count": 9,
   "metadata": {},
   "outputs": [
    {
     "name": "stdout",
     "output_type": "stream",
     "text": [
      " Sin of 45 is 0.85\n",
      " cos of 45 is 0.53\n",
      " tan of 45 is 1.62\n"
     ]
    }
   ],
   "source": [
    "print (f\" Sin of {a} is {round(mt.sin(a),2)}\")\n",
    "print (f\" cos of {a} is {round(mt.cos(a),2)}\")\n",
    "print (f\" tan of {a} is {round(mt.tan(a),2)}\")"
   ]
  },
  {
   "cell_type": "code",
   "execution_count": 13,
   "metadata": {},
   "outputs": [
    {
     "name": "stdout",
     "output_type": "stream",
     "text": [
      " Square root of 45 is 6.71\n",
      " Exponential of 45 is 3.4934271057485095e+19\n"
     ]
    }
   ],
   "source": [
    "print (f\" Square root of {a} is {round(mt.sqrt(a),2)}\")\n",
    "print (f\" Exponential of {a} is {round(mt.exp(a),2)}\")\n"
   ]
  },
  {
   "cell_type": "code",
   "execution_count": 14,
   "metadata": {},
   "outputs": [
    {
     "name": "stdout",
     "output_type": "stream",
     "text": [
      "1\n",
      "2\n",
      "Fuzz\n",
      "4\n",
      "Buzz\n",
      "Fuzz\n",
      "7\n",
      "8\n",
      "Fuzz\n",
      "Buzz\n",
      "11\n",
      "Fuzz\n",
      "13\n",
      "14\n",
      "Fuzz Buzz\n",
      "16\n",
      "17\n",
      "Fuzz\n",
      "19\n",
      "Buzz\n",
      "Fuzz\n",
      "22\n",
      "23\n",
      "Fuzz\n",
      "Buzz\n",
      "26\n",
      "Fuzz\n",
      "28\n",
      "29\n",
      "Fuzz Buzz\n",
      "31\n",
      "32\n",
      "Fuzz\n",
      "34\n",
      "Buzz\n",
      "Fuzz\n",
      "37\n",
      "38\n",
      "Fuzz\n",
      "Buzz\n",
      "41\n",
      "Fuzz\n",
      "43\n",
      "44\n",
      "Fuzz Buzz\n",
      "46\n",
      "47\n",
      "Fuzz\n",
      "49\n",
      "Buzz\n",
      "Fuzz\n",
      "52\n",
      "53\n",
      "Fuzz\n",
      "Buzz\n",
      "56\n",
      "Fuzz\n",
      "58\n",
      "59\n",
      "Fuzz Buzz\n",
      "61\n",
      "62\n",
      "Fuzz\n",
      "64\n",
      "Buzz\n",
      "Fuzz\n",
      "67\n",
      "68\n",
      "Fuzz\n",
      "Buzz\n",
      "71\n",
      "Fuzz\n",
      "73\n",
      "74\n",
      "Fuzz Buzz\n",
      "76\n",
      "77\n",
      "Fuzz\n",
      "79\n",
      "Buzz\n",
      "Fuzz\n",
      "82\n",
      "83\n",
      "Fuzz\n",
      "Buzz\n",
      "86\n",
      "Fuzz\n",
      "88\n",
      "89\n",
      "Fuzz Buzz\n",
      "91\n",
      "92\n",
      "Fuzz\n",
      "94\n",
      "Buzz\n",
      "Fuzz\n",
      "97\n",
      "98\n",
      "Fuzz\n",
      "Buzz\n"
     ]
    }
   ],
   "source": [
    "# Fuzz, Buzz and FuzzBuzz\n",
    "for i in range(1,101,1): # Loop through 1-100, increment of 1 \n",
    "    if i%15==0:\n",
    "        print(\"Fuzz Buzz\")\n",
    "    else:\n",
    "        if i%3==0:\n",
    "            print(\"Fuzz\")\n",
    "        else:\n",
    "            if i%5==0:\n",
    "                print(\"Buzz\")\n",
    "            else:\n",
    "                print(i)\n",
    "            "
   ]
  },
  {
   "cell_type": "code",
   "execution_count": 19,
   "metadata": {},
   "outputs": [
    {
     "name": "stdout",
     "output_type": "stream",
     "text": [
      "1,Odd\n",
      "2,Even\n",
      "3,Prime\n",
      "4,Even\n",
      "5,Prime\n",
      "6,Even\n",
      "7,Prime\n",
      "8,Even\n",
      "9,Odd\n",
      "10,Even\n",
      "11,Odd\n",
      "12,Even\n",
      "13,Odd\n",
      "14,Even\n",
      "15,Odd\n",
      "16,Even\n",
      "17,Odd\n",
      "18,Even\n",
      "19,Odd\n"
     ]
    }
   ],
   "source": [
    "prime_num=[3,5,7]\n",
    "for i in range(1,20,1):\n",
    "    #print(i)\n",
    "    if i in prime_num:\n",
    "        print (f\"{i},Prime\")\n",
    "    elif i%2==0:\n",
    "        print(f\"{i},Even\")\n",
    "    else:\n",
    "        print(f\"{i},Odd\")"
   ]
  },
  {
   "cell_type": "code",
   "execution_count": null,
   "metadata": {},
   "outputs": [],
   "source": []
  }
 ],
 "metadata": {
  "kernelspec": {
   "display_name": "Python 3",
   "language": "python",
   "name": "python3"
  },
  "language_info": {
   "codemirror_mode": {
    "name": "ipython",
    "version": 3
   },
   "file_extension": ".py",
   "mimetype": "text/x-python",
   "name": "python",
   "nbconvert_exporter": "python",
   "pygments_lexer": "ipython3",
   "version": "3.7.9"
  }
 },
 "nbformat": 4,
 "nbformat_minor": 4
}
